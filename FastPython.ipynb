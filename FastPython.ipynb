{
 "cells": [
  {
   "cell_type": "markdown",
   "metadata": {},
   "source": [
    "Python as fast as possible.\n",
    "Data Types :\n",
    "1) Int : 4456, -4566\n",
    "2) Float : 225.023, -23.32\n",
    "3) String : \"Hello\", 'Hello'\n",
    "4) Bool : True, False"
   ]
  },
  {
   "cell_type": "code",
   "execution_count": 12,
   "metadata": {},
   "outputs": [
    {
     "name": "stdout",
     "output_type": "stream",
     "text": [
      "Hello! Akanksha\n",
      "4.5\n",
      "2.3 hello 87 False\n",
      "tim tim\n"
     ]
    }
   ],
   "source": [
    "print(\"Hello! Akanksha\")\n",
    "print(4.5)\n",
    "print('2.3', 'hello',87,False, end='\\n')\n",
    "hello = 'tim'\n",
    "world = 'world'\n",
    "world = hello\n",
    "print(hello, world)"
   ]
  },
  {
   "cell_type": "code",
   "execution_count": 14,
   "metadata": {},
   "outputs": [
    {
     "name": "stdout",
     "output_type": "stream",
     "text": [
      "Hello Summi you are 56 years old\n"
     ]
    }
   ],
   "source": [
    "Name = input(\"Name : \")\n",
    "Age = input(\"Age: \")\n",
    "print('Hello', Name, 'you are', Age, 'years old')"
   ]
  },
  {
   "cell_type": "markdown",
   "metadata": {},
   "source": [
    "In Arithmetic Operation, Python follows the BEDMAS\n",
    "B = Bracket\n",
    "\n",
    "E = Exponent\n",
    "\n",
    "D = Division\n",
    "\n",
    "M = Multiplication\n",
    "\n",
    "A = Addition\n",
    "\n",
    "S = Substraction"
   ]
  },
  {
   "cell_type": "markdown",
   "metadata": {},
   "source": []
  }
 ],
 "metadata": {
  "kernelspec": {
   "display_name": "Python 3",
   "language": "python",
   "name": "python3"
  },
  "language_info": {
   "codemirror_mode": {
    "name": "ipython",
    "version": 3
   },
   "file_extension": ".py",
   "mimetype": "text/x-python",
   "name": "python",
   "nbconvert_exporter": "python",
   "pygments_lexer": "ipython3",
   "version": "3.12.4"
  }
 },
 "nbformat": 4,
 "nbformat_minor": 2
}
